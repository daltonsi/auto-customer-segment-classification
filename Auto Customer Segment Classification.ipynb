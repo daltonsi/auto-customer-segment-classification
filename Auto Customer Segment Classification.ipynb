{
 "cells": [
  {
   "cell_type": "markdown",
   "id": "876ca480",
   "metadata": {},
   "source": [
    "# Customer Segment Classification"
   ]
  },
  {
   "cell_type": "markdown",
   "id": "fb4cd683",
   "metadata": {},
   "source": [
    "## Getting the data"
   ]
  },
  {
   "cell_type": "markdown",
   "id": "eb281d47",
   "metadata": {},
   "source": [
    "#### Data Summary"
   ]
  },
  {
   "cell_type": "code",
   "execution_count": 369,
   "id": "24b00b79",
   "metadata": {},
   "outputs": [
    {
     "data": {
      "text/html": [
       "<div>\n",
       "<style scoped>\n",
       "    .dataframe tbody tr th:only-of-type {\n",
       "        vertical-align: middle;\n",
       "    }\n",
       "\n",
       "    .dataframe tbody tr th {\n",
       "        vertical-align: top;\n",
       "    }\n",
       "\n",
       "    .dataframe thead th {\n",
       "        text-align: right;\n",
       "    }\n",
       "</style>\n",
       "<table border=\"1\" class=\"dataframe\">\n",
       "  <thead>\n",
       "    <tr style=\"text-align: right;\">\n",
       "      <th></th>\n",
       "      <th>Gender</th>\n",
       "      <th>Ever_Married</th>\n",
       "      <th>Age</th>\n",
       "      <th>Graduated</th>\n",
       "      <th>Profession</th>\n",
       "      <th>Work_Experience</th>\n",
       "      <th>Spending_Score</th>\n",
       "      <th>Family_Size</th>\n",
       "      <th>Var_1</th>\n",
       "      <th>Segmentation</th>\n",
       "    </tr>\n",
       "  </thead>\n",
       "  <tbody>\n",
       "    <tr>\n",
       "      <th>0</th>\n",
       "      <td>Male</td>\n",
       "      <td>No</td>\n",
       "      <td>22</td>\n",
       "      <td>No</td>\n",
       "      <td>Healthcare</td>\n",
       "      <td>1.0</td>\n",
       "      <td>Low</td>\n",
       "      <td>4.0</td>\n",
       "      <td>Cat_4</td>\n",
       "      <td>D</td>\n",
       "    </tr>\n",
       "    <tr>\n",
       "      <th>1</th>\n",
       "      <td>Female</td>\n",
       "      <td>Yes</td>\n",
       "      <td>38</td>\n",
       "      <td>Yes</td>\n",
       "      <td>Engineer</td>\n",
       "      <td>NaN</td>\n",
       "      <td>Average</td>\n",
       "      <td>3.0</td>\n",
       "      <td>Cat_4</td>\n",
       "      <td>A</td>\n",
       "    </tr>\n",
       "    <tr>\n",
       "      <th>2</th>\n",
       "      <td>Female</td>\n",
       "      <td>Yes</td>\n",
       "      <td>67</td>\n",
       "      <td>Yes</td>\n",
       "      <td>Engineer</td>\n",
       "      <td>1.0</td>\n",
       "      <td>Low</td>\n",
       "      <td>1.0</td>\n",
       "      <td>Cat_6</td>\n",
       "      <td>B</td>\n",
       "    </tr>\n",
       "    <tr>\n",
       "      <th>3</th>\n",
       "      <td>Male</td>\n",
       "      <td>Yes</td>\n",
       "      <td>67</td>\n",
       "      <td>Yes</td>\n",
       "      <td>Lawyer</td>\n",
       "      <td>0.0</td>\n",
       "      <td>High</td>\n",
       "      <td>2.0</td>\n",
       "      <td>Cat_6</td>\n",
       "      <td>B</td>\n",
       "    </tr>\n",
       "    <tr>\n",
       "      <th>4</th>\n",
       "      <td>Female</td>\n",
       "      <td>Yes</td>\n",
       "      <td>40</td>\n",
       "      <td>Yes</td>\n",
       "      <td>Entertainment</td>\n",
       "      <td>NaN</td>\n",
       "      <td>High</td>\n",
       "      <td>6.0</td>\n",
       "      <td>Cat_6</td>\n",
       "      <td>A</td>\n",
       "    </tr>\n",
       "  </tbody>\n",
       "</table>\n",
       "</div>"
      ],
      "text/plain": [
       "   Gender Ever_Married  Age Graduated     Profession  Work_Experience  \\\n",
       "0    Male           No   22        No     Healthcare              1.0   \n",
       "1  Female          Yes   38       Yes       Engineer              NaN   \n",
       "2  Female          Yes   67       Yes       Engineer              1.0   \n",
       "3    Male          Yes   67       Yes         Lawyer              0.0   \n",
       "4  Female          Yes   40       Yes  Entertainment              NaN   \n",
       "\n",
       "  Spending_Score  Family_Size  Var_1 Segmentation  \n",
       "0            Low          4.0  Cat_4            D  \n",
       "1        Average          3.0  Cat_4            A  \n",
       "2            Low          1.0  Cat_6            B  \n",
       "3           High          2.0  Cat_6            B  \n",
       "4           High          6.0  Cat_6            A  "
      ]
     },
     "execution_count": 369,
     "metadata": {},
     "output_type": "execute_result"
    }
   ],
   "source": [
    "import pandas as pd\n",
    "pd.set_option(\"display.max_rows\", 100)\n",
    "\n",
    "\n",
    "train = pd.read_csv('raw_data/Train.csv')\n",
    "train_exp = train.copy() # For data exploration\n",
    "train.drop('ID',axis=1,inplace=True) #TODO: Handle excluded rows in target\n",
    "\n",
    "#test = pd.read_csv('raw_data/Test.csv')\n",
    "#y_test, X_test = test.loc[:, test.columns == 'Segmentation'].copy(), test.drop('Segmentation', axis=1)\n",
    "\n",
    "train.head()\n"
   ]
  },
  {
   "cell_type": "code",
   "execution_count": 280,
   "id": "fa8b8723",
   "metadata": {},
   "outputs": [
    {
     "data": {
      "text/html": [
       "<div>\n",
       "<style scoped>\n",
       "    .dataframe tbody tr th:only-of-type {\n",
       "        vertical-align: middle;\n",
       "    }\n",
       "\n",
       "    .dataframe tbody tr th {\n",
       "        vertical-align: top;\n",
       "    }\n",
       "\n",
       "    .dataframe thead th {\n",
       "        text-align: right;\n",
       "    }\n",
       "</style>\n",
       "<table border=\"1\" class=\"dataframe\">\n",
       "  <thead>\n",
       "    <tr style=\"text-align: right;\">\n",
       "      <th></th>\n",
       "      <th>Age</th>\n",
       "      <th>Work_Experience</th>\n",
       "      <th>Family_Size</th>\n",
       "    </tr>\n",
       "  </thead>\n",
       "  <tbody>\n",
       "    <tr>\n",
       "      <th>count</th>\n",
       "      <td>8068.000000</td>\n",
       "      <td>7239.000000</td>\n",
       "      <td>7733.000000</td>\n",
       "    </tr>\n",
       "    <tr>\n",
       "      <th>mean</th>\n",
       "      <td>43.466906</td>\n",
       "      <td>2.641663</td>\n",
       "      <td>2.850123</td>\n",
       "    </tr>\n",
       "    <tr>\n",
       "      <th>std</th>\n",
       "      <td>16.711696</td>\n",
       "      <td>3.406763</td>\n",
       "      <td>1.531413</td>\n",
       "    </tr>\n",
       "    <tr>\n",
       "      <th>min</th>\n",
       "      <td>18.000000</td>\n",
       "      <td>0.000000</td>\n",
       "      <td>1.000000</td>\n",
       "    </tr>\n",
       "    <tr>\n",
       "      <th>25%</th>\n",
       "      <td>30.000000</td>\n",
       "      <td>0.000000</td>\n",
       "      <td>2.000000</td>\n",
       "    </tr>\n",
       "    <tr>\n",
       "      <th>50%</th>\n",
       "      <td>40.000000</td>\n",
       "      <td>1.000000</td>\n",
       "      <td>3.000000</td>\n",
       "    </tr>\n",
       "    <tr>\n",
       "      <th>75%</th>\n",
       "      <td>53.000000</td>\n",
       "      <td>4.000000</td>\n",
       "      <td>4.000000</td>\n",
       "    </tr>\n",
       "    <tr>\n",
       "      <th>max</th>\n",
       "      <td>89.000000</td>\n",
       "      <td>14.000000</td>\n",
       "      <td>9.000000</td>\n",
       "    </tr>\n",
       "  </tbody>\n",
       "</table>\n",
       "</div>"
      ],
      "text/plain": [
       "               Age  Work_Experience  Family_Size\n",
       "count  8068.000000      7239.000000  7733.000000\n",
       "mean     43.466906         2.641663     2.850123\n",
       "std      16.711696         3.406763     1.531413\n",
       "min      18.000000         0.000000     1.000000\n",
       "25%      30.000000         0.000000     2.000000\n",
       "50%      40.000000         1.000000     3.000000\n",
       "75%      53.000000         4.000000     4.000000\n",
       "max      89.000000        14.000000     9.000000"
      ]
     },
     "execution_count": 280,
     "metadata": {},
     "output_type": "execute_result"
    }
   ],
   "source": [
    "train.describe()"
   ]
  },
  {
   "cell_type": "code",
   "execution_count": 281,
   "id": "f35fec2a",
   "metadata": {},
   "outputs": [
    {
     "name": "stdout",
     "output_type": "stream",
     "text": [
      "<class 'pandas.core.frame.DataFrame'>\n",
      "RangeIndex: 8068 entries, 0 to 8067\n",
      "Data columns (total 10 columns):\n",
      " #   Column           Non-Null Count  Dtype  \n",
      "---  ------           --------------  -----  \n",
      " 0   Gender           8068 non-null   object \n",
      " 1   Ever_Married     7928 non-null   object \n",
      " 2   Age              8068 non-null   int64  \n",
      " 3   Graduated        7990 non-null   object \n",
      " 4   Profession       7944 non-null   object \n",
      " 5   Work_Experience  7239 non-null   float64\n",
      " 6   Spending_Score   8068 non-null   object \n",
      " 7   Family_Size      7733 non-null   float64\n",
      " 8   Var_1            7992 non-null   object \n",
      " 9   Segmentation     8068 non-null   object \n",
      "dtypes: float64(2), int64(1), object(7)\n",
      "memory usage: 630.4+ KB\n"
     ]
    }
   ],
   "source": [
    "train.info()"
   ]
  },
  {
   "cell_type": "markdown",
   "id": "6045e404",
   "metadata": {},
   "source": [
    "#### Null Handling"
   ]
  },
  {
   "cell_type": "code",
   "execution_count": 372,
   "id": "0293d6c9",
   "metadata": {},
   "outputs": [
    {
     "data": {
      "text/plain": [
       "Gender               0\n",
       "Ever_Married         0\n",
       "Age                  0\n",
       "Graduated            0\n",
       "Profession         114\n",
       "Work_Experience      0\n",
       "Spending_Score       0\n",
       "Family_Size          0\n",
       "Var_1                0\n",
       "Segmentation         0\n",
       "dtype: int64"
      ]
     },
     "execution_count": 372,
     "metadata": {},
     "output_type": "execute_result"
    }
   ],
   "source": [
    "# Missing values per feature\n",
    "train.isnull().sum(axis = 0)"
   ]
  },
  {
   "cell_type": "code",
   "execution_count": 283,
   "id": "8d33524d",
   "metadata": {},
   "outputs": [
    {
     "data": {
      "text/plain": [
       "0    6665\n",
       "1    1244\n",
       "2     140\n",
       "3      18\n",
       "4       1\n",
       "dtype: int64"
      ]
     },
     "execution_count": 283,
     "metadata": {},
     "output_type": "execute_result"
    }
   ],
   "source": [
    "train.isnull().sum(axis=1).value_counts()"
   ]
  },
  {
   "cell_type": "code",
   "execution_count": 371,
   "id": "0b2e4095",
   "metadata": {},
   "outputs": [],
   "source": [
    "# Remove NA rows for features with low NA row counts (< 1% of total raw row count)\n",
    "train.dropna(how='any', subset=['Graduated'], axis=0, inplace=True)\n",
    "train.dropna(how='any', subset=['Var_1'], axis=0, inplace=True)\n",
    "\n",
    "# Impute Boolean Features with Mode\n",
    "train['Ever_Married'].fillna(train['Ever_Married'].mode()[0], inplace=True)\n",
    "\n",
    "\n",
    "# Impute WE with median at ~1 as mean (2.64) is skewed towards 75th percentile (4)\n",
    "train['Work_Experience'].fillna(train['Work_Experience'].median(), inplace=True)\n",
    "\n",
    "\n",
    "# Impute Family size with mean (2.85) which aligns close to median (3)\n",
    "train['Family_Size'].fillna(train['Family_Size'].mean(), inplace=True)\n",
    "\n",
    "\n",
    "# NA values of Profession will report as all zeros post one hot encoding - no need to prefilter"
   ]
  },
  {
   "cell_type": "code",
   "execution_count": 332,
   "id": "e6e3599c",
   "metadata": {},
   "outputs": [
    {
     "data": {
      "text/plain": [
       "Artist           2477\n",
       "Healthcare       1305\n",
       "Entertainment     931\n",
       "Engineer          690\n",
       "Doctor            678\n",
       "Lawyer            605\n",
       "Executive         589\n",
       "Marketing         285\n",
       "Homemaker         240\n",
       "NaN               114\n",
       "Name: Profession, dtype: int64"
      ]
     },
     "execution_count": 332,
     "metadata": {},
     "output_type": "execute_result"
    }
   ],
   "source": [
    "train['Profession'].value_counts(dropna=False)"
   ]
  },
  {
   "cell_type": "code",
   "execution_count": 355,
   "id": "3b754027",
   "metadata": {},
   "outputs": [
    {
     "data": {
      "text/plain": [
       "Yes    4555\n",
       "No     3224\n",
       "NaN     135\n",
       "Name: Ever_Married, dtype: int64"
      ]
     },
     "execution_count": 355,
     "metadata": {},
     "output_type": "execute_result"
    }
   ],
   "source": [
    "train['Ever_Married'].value_counts(dropna=False)"
   ]
  },
  {
   "cell_type": "code",
   "execution_count": 374,
   "id": "f9dada2e",
   "metadata": {},
   "outputs": [
    {
     "data": {
      "text/plain": [
       "Gender               0\n",
       "Ever_Married         0\n",
       "Age                  0\n",
       "Graduated            0\n",
       "Profession         114\n",
       "Work_Experience      0\n",
       "Spending_Score       0\n",
       "Family_Size          0\n",
       "Var_1                0\n",
       "Segmentation         0\n",
       "dtype: int64"
      ]
     },
     "execution_count": 374,
     "metadata": {},
     "output_type": "execute_result"
    }
   ],
   "source": [
    "train.isnull().sum(axis = 0)\n"
   ]
  },
  {
   "cell_type": "markdown",
   "id": "2a2b0e0b",
   "metadata": {},
   "source": [
    "#### Preprocessing boolean  variables"
   ]
  },
  {
   "cell_type": "code",
   "execution_count": 373,
   "id": "4127c680",
   "metadata": {},
   "outputs": [
    {
     "data": {
      "text/html": [
       "<div>\n",
       "<style scoped>\n",
       "    .dataframe tbody tr th:only-of-type {\n",
       "        vertical-align: middle;\n",
       "    }\n",
       "\n",
       "    .dataframe tbody tr th {\n",
       "        vertical-align: top;\n",
       "    }\n",
       "\n",
       "    .dataframe thead th {\n",
       "        text-align: right;\n",
       "    }\n",
       "</style>\n",
       "<table border=\"1\" class=\"dataframe\">\n",
       "  <thead>\n",
       "    <tr style=\"text-align: right;\">\n",
       "      <th></th>\n",
       "      <th>Gender</th>\n",
       "      <th>Ever_Married</th>\n",
       "      <th>Age</th>\n",
       "      <th>Graduated</th>\n",
       "      <th>Profession</th>\n",
       "      <th>Work_Experience</th>\n",
       "      <th>Spending_Score</th>\n",
       "      <th>Family_Size</th>\n",
       "      <th>Var_1</th>\n",
       "      <th>Segmentation</th>\n",
       "    </tr>\n",
       "  </thead>\n",
       "  <tbody>\n",
       "    <tr>\n",
       "      <th>0</th>\n",
       "      <td>Male</td>\n",
       "      <td>False</td>\n",
       "      <td>22</td>\n",
       "      <td>False</td>\n",
       "      <td>Healthcare</td>\n",
       "      <td>1.0</td>\n",
       "      <td>Low</td>\n",
       "      <td>4.0</td>\n",
       "      <td>Cat_4</td>\n",
       "      <td>D</td>\n",
       "    </tr>\n",
       "    <tr>\n",
       "      <th>1</th>\n",
       "      <td>Female</td>\n",
       "      <td>True</td>\n",
       "      <td>38</td>\n",
       "      <td>True</td>\n",
       "      <td>Engineer</td>\n",
       "      <td>1.0</td>\n",
       "      <td>Average</td>\n",
       "      <td>3.0</td>\n",
       "      <td>Cat_4</td>\n",
       "      <td>A</td>\n",
       "    </tr>\n",
       "    <tr>\n",
       "      <th>2</th>\n",
       "      <td>Female</td>\n",
       "      <td>True</td>\n",
       "      <td>67</td>\n",
       "      <td>True</td>\n",
       "      <td>Engineer</td>\n",
       "      <td>1.0</td>\n",
       "      <td>Low</td>\n",
       "      <td>1.0</td>\n",
       "      <td>Cat_6</td>\n",
       "      <td>B</td>\n",
       "    </tr>\n",
       "    <tr>\n",
       "      <th>3</th>\n",
       "      <td>Male</td>\n",
       "      <td>True</td>\n",
       "      <td>67</td>\n",
       "      <td>True</td>\n",
       "      <td>Lawyer</td>\n",
       "      <td>0.0</td>\n",
       "      <td>High</td>\n",
       "      <td>2.0</td>\n",
       "      <td>Cat_6</td>\n",
       "      <td>B</td>\n",
       "    </tr>\n",
       "    <tr>\n",
       "      <th>4</th>\n",
       "      <td>Female</td>\n",
       "      <td>True</td>\n",
       "      <td>40</td>\n",
       "      <td>True</td>\n",
       "      <td>Entertainment</td>\n",
       "      <td>1.0</td>\n",
       "      <td>High</td>\n",
       "      <td>6.0</td>\n",
       "      <td>Cat_6</td>\n",
       "      <td>A</td>\n",
       "    </tr>\n",
       "  </tbody>\n",
       "</table>\n",
       "</div>"
      ],
      "text/plain": [
       "   Gender  Ever_Married  Age  Graduated     Profession  Work_Experience  \\\n",
       "0    Male         False   22      False     Healthcare              1.0   \n",
       "1  Female          True   38       True       Engineer              1.0   \n",
       "2  Female          True   67       True       Engineer              1.0   \n",
       "3    Male          True   67       True         Lawyer              0.0   \n",
       "4  Female          True   40       True  Entertainment              1.0   \n",
       "\n",
       "  Spending_Score  Family_Size  Var_1 Segmentation  \n",
       "0            Low          4.0  Cat_4            D  \n",
       "1        Average          3.0  Cat_4            A  \n",
       "2            Low          1.0  Cat_6            B  \n",
       "3           High          2.0  Cat_6            B  \n",
       "4           High          6.0  Cat_6            A  "
      ]
     },
     "execution_count": 373,
     "metadata": {},
     "output_type": "execute_result"
    }
   ],
   "source": [
    "train['Ever_Married'] = train['Ever_Married'].map({'No': False, 'Yes': True})\n",
    "train['Graduated'] = train['Graduated'].map({'No': False, 'Yes': True})\n",
    "\n",
    "train.head()\n",
    "#train['Ever_Married'].value_counts()"
   ]
  },
  {
   "cell_type": "markdown",
   "id": "8045af34",
   "metadata": {},
   "source": [
    "#### One Hot encode categorical variables"
   ]
  },
  {
   "cell_type": "code",
   "execution_count": 375,
   "id": "d45549ec",
   "metadata": {},
   "outputs": [],
   "source": [
    "from sklearn.preprocessing import OneHotEncoder\n",
    "\n",
    "\n",
    "    \n",
    "# Gender\n",
    "gender_enc = OneHotEncoder()\n",
    "gen_encoded = gender_enc.fit_transform(train[['Gender']]) # returns df of included col indcs\n",
    "train[gender_enc.categories_[0]] = gen_encoded.toarray()\n",
    "\n",
    "# Profession\n",
    "prof_enc = OneHotEncoder(handle_unknown='ignore')\n",
    "prof_encoded = prof_enc.fit_transform(train[['Profession']])\n",
    "train[['prof_'+str(i) for i in prof_enc.categories_[0]]] = prof_encoded.toarray()\n",
    "\n",
    "# Spending Score\n",
    "ss_enc = OneHotEncoder()\n",
    "ss_encoded = ss_enc.fit_transform(train[['Spending_Score']]) \n",
    "train[['ss_'+ i for i in ss_enc.categories_[0]]] = ss_encoded.toarray()\n",
    "\n",
    "var1_enc = OneHotEncoder()\n",
    "var1_encoded = var1_enc.fit_transform(train[['Var_1']]) \n",
    "train[var1_enc.categories_[0]] = var1_encoded.toarray()\n",
    "\n",
    "\n",
    "\n",
    "train.drop(['prof_nan','Profession','Gender','Spending_Score','Var_1'],axis=1, inplace=True)\n",
    "    \n",
    "    \n",
    "    \n",
    "\n"
   ]
  },
  {
   "cell_type": "markdown",
   "id": "8fa941c3",
   "metadata": {},
   "source": [
    "#### Scale the continous features"
   ]
  },
  {
   "cell_type": "code",
   "execution_count": 376,
   "id": "0d5e3869",
   "metadata": {},
   "outputs": [
    {
     "data": {
      "text/html": [
       "<div>\n",
       "<style scoped>\n",
       "    .dataframe tbody tr th:only-of-type {\n",
       "        vertical-align: middle;\n",
       "    }\n",
       "\n",
       "    .dataframe tbody tr th {\n",
       "        vertical-align: top;\n",
       "    }\n",
       "\n",
       "    .dataframe thead th {\n",
       "        text-align: right;\n",
       "    }\n",
       "</style>\n",
       "<table border=\"1\" class=\"dataframe\">\n",
       "  <thead>\n",
       "    <tr style=\"text-align: right;\">\n",
       "      <th></th>\n",
       "      <th>Ever_Married</th>\n",
       "      <th>Age</th>\n",
       "      <th>Graduated</th>\n",
       "      <th>Work_Experience</th>\n",
       "      <th>Family_Size</th>\n",
       "      <th>Segmentation</th>\n",
       "      <th>Female</th>\n",
       "      <th>Male</th>\n",
       "      <th>prof_Artist</th>\n",
       "      <th>prof_Doctor</th>\n",
       "      <th>...</th>\n",
       "      <th>ss_Average</th>\n",
       "      <th>ss_High</th>\n",
       "      <th>ss_Low</th>\n",
       "      <th>Cat_1</th>\n",
       "      <th>Cat_2</th>\n",
       "      <th>Cat_3</th>\n",
       "      <th>Cat_4</th>\n",
       "      <th>Cat_5</th>\n",
       "      <th>Cat_6</th>\n",
       "      <th>Cat_7</th>\n",
       "    </tr>\n",
       "  </thead>\n",
       "  <tbody>\n",
       "    <tr>\n",
       "      <th>0</th>\n",
       "      <td>False</td>\n",
       "      <td>-1.286003</td>\n",
       "      <td>False</td>\n",
       "      <td>-0.449653</td>\n",
       "      <td>0.768002</td>\n",
       "      <td>D</td>\n",
       "      <td>0.0</td>\n",
       "      <td>1.0</td>\n",
       "      <td>0.0</td>\n",
       "      <td>0.0</td>\n",
       "      <td>...</td>\n",
       "      <td>0.0</td>\n",
       "      <td>0.0</td>\n",
       "      <td>1.0</td>\n",
       "      <td>0.0</td>\n",
       "      <td>0.0</td>\n",
       "      <td>0.0</td>\n",
       "      <td>1.0</td>\n",
       "      <td>0.0</td>\n",
       "      <td>0.0</td>\n",
       "      <td>0.0</td>\n",
       "    </tr>\n",
       "    <tr>\n",
       "      <th>1</th>\n",
       "      <td>True</td>\n",
       "      <td>-0.326660</td>\n",
       "      <td>True</td>\n",
       "      <td>-0.449653</td>\n",
       "      <td>0.101002</td>\n",
       "      <td>A</td>\n",
       "      <td>1.0</td>\n",
       "      <td>0.0</td>\n",
       "      <td>0.0</td>\n",
       "      <td>0.0</td>\n",
       "      <td>...</td>\n",
       "      <td>1.0</td>\n",
       "      <td>0.0</td>\n",
       "      <td>0.0</td>\n",
       "      <td>0.0</td>\n",
       "      <td>0.0</td>\n",
       "      <td>0.0</td>\n",
       "      <td>1.0</td>\n",
       "      <td>0.0</td>\n",
       "      <td>0.0</td>\n",
       "      <td>0.0</td>\n",
       "    </tr>\n",
       "    <tr>\n",
       "      <th>2</th>\n",
       "      <td>True</td>\n",
       "      <td>1.412149</td>\n",
       "      <td>True</td>\n",
       "      <td>-0.449653</td>\n",
       "      <td>-1.232998</td>\n",
       "      <td>B</td>\n",
       "      <td>1.0</td>\n",
       "      <td>0.0</td>\n",
       "      <td>0.0</td>\n",
       "      <td>0.0</td>\n",
       "      <td>...</td>\n",
       "      <td>0.0</td>\n",
       "      <td>0.0</td>\n",
       "      <td>1.0</td>\n",
       "      <td>0.0</td>\n",
       "      <td>0.0</td>\n",
       "      <td>0.0</td>\n",
       "      <td>0.0</td>\n",
       "      <td>0.0</td>\n",
       "      <td>1.0</td>\n",
       "      <td>0.0</td>\n",
       "    </tr>\n",
       "    <tr>\n",
       "      <th>3</th>\n",
       "      <td>True</td>\n",
       "      <td>1.412149</td>\n",
       "      <td>True</td>\n",
       "      <td>-0.755659</td>\n",
       "      <td>-0.565998</td>\n",
       "      <td>B</td>\n",
       "      <td>0.0</td>\n",
       "      <td>1.0</td>\n",
       "      <td>0.0</td>\n",
       "      <td>0.0</td>\n",
       "      <td>...</td>\n",
       "      <td>0.0</td>\n",
       "      <td>1.0</td>\n",
       "      <td>0.0</td>\n",
       "      <td>0.0</td>\n",
       "      <td>0.0</td>\n",
       "      <td>0.0</td>\n",
       "      <td>0.0</td>\n",
       "      <td>0.0</td>\n",
       "      <td>1.0</td>\n",
       "      <td>0.0</td>\n",
       "    </tr>\n",
       "    <tr>\n",
       "      <th>4</th>\n",
       "      <td>True</td>\n",
       "      <td>-0.206742</td>\n",
       "      <td>True</td>\n",
       "      <td>-0.449653</td>\n",
       "      <td>2.102002</td>\n",
       "      <td>A</td>\n",
       "      <td>1.0</td>\n",
       "      <td>0.0</td>\n",
       "      <td>0.0</td>\n",
       "      <td>0.0</td>\n",
       "      <td>...</td>\n",
       "      <td>0.0</td>\n",
       "      <td>1.0</td>\n",
       "      <td>0.0</td>\n",
       "      <td>0.0</td>\n",
       "      <td>0.0</td>\n",
       "      <td>0.0</td>\n",
       "      <td>0.0</td>\n",
       "      <td>0.0</td>\n",
       "      <td>1.0</td>\n",
       "      <td>0.0</td>\n",
       "    </tr>\n",
       "  </tbody>\n",
       "</table>\n",
       "<p>5 rows × 27 columns</p>\n",
       "</div>"
      ],
      "text/plain": [
       "   Ever_Married       Age  Graduated  Work_Experience  Family_Size  \\\n",
       "0         False -1.286003      False        -0.449653     0.768002   \n",
       "1          True -0.326660       True        -0.449653     0.101002   \n",
       "2          True  1.412149       True        -0.449653    -1.232998   \n",
       "3          True  1.412149       True        -0.755659    -0.565998   \n",
       "4          True -0.206742       True        -0.449653     2.102002   \n",
       "\n",
       "  Segmentation  Female  Male  prof_Artist  prof_Doctor  ...  ss_Average  \\\n",
       "0            D     0.0   1.0          0.0          0.0  ...         0.0   \n",
       "1            A     1.0   0.0          0.0          0.0  ...         1.0   \n",
       "2            B     1.0   0.0          0.0          0.0  ...         0.0   \n",
       "3            B     0.0   1.0          0.0          0.0  ...         0.0   \n",
       "4            A     1.0   0.0          0.0          0.0  ...         0.0   \n",
       "\n",
       "   ss_High  ss_Low  Cat_1  Cat_2  Cat_3  Cat_4  Cat_5  Cat_6  Cat_7  \n",
       "0      0.0     1.0    0.0    0.0    0.0    1.0    0.0    0.0    0.0  \n",
       "1      0.0     0.0    0.0    0.0    0.0    1.0    0.0    0.0    0.0  \n",
       "2      0.0     1.0    0.0    0.0    0.0    0.0    0.0    1.0    0.0  \n",
       "3      1.0     0.0    0.0    0.0    0.0    0.0    0.0    1.0    0.0  \n",
       "4      1.0     0.0    0.0    0.0    0.0    0.0    0.0    1.0    0.0  \n",
       "\n",
       "[5 rows x 27 columns]"
      ]
     },
     "execution_count": 376,
     "metadata": {},
     "output_type": "execute_result"
    }
   ],
   "source": [
    "from sklearn.preprocessing import StandardScaler\n",
    "\n",
    "#Age Scaler\n",
    "age_scaler = StandardScaler()\n",
    "age_scaled = age_scaler.fit_transform(train[['Age']])\n",
    "train['Age'] = age_scaled\n",
    "\n",
    "\n",
    "\n",
    "#Work Experience\n",
    "work_scaler = StandardScaler()\n",
    "work_scaled = work_scaler.fit_transform(train[['Work_Experience']])\n",
    "train['Work_Experience'] = work_scaled\n",
    "\n",
    "\n",
    "#Family Size\n",
    "fam_scaler = StandardScaler()\n",
    "fam_scaled = fam_scaler.fit_transform(train[['Family_Size']])\n",
    "train['Family_Size'] = fam_scaled\n",
    "\n",
    "train.head()\n",
    "\n",
    "\n"
   ]
  },
  {
   "cell_type": "markdown",
   "id": "954e774a",
   "metadata": {},
   "source": [
    "## Explore the data"
   ]
  },
  {
   "cell_type": "code",
   "execution_count": 377,
   "id": "1d39f732",
   "metadata": {},
   "outputs": [
    {
     "data": {
      "image/png": "[encoded data removed]",
      "text/plain": [
       "<Figure size 1000x500 with 8 Axes>"
      ]
     },
     "metadata": {
      "needs_background": "dark"
     },
     "output_type": "display_data"
    }
   ],
   "source": [
    "import matplotlib.pyplot as plt\n",
    "plt.style.use('dark_background')\n",
    "import seaborn as sns\n",
    "%matplotlib inline\n",
    "\n",
    "fig, axs = plt.subplots(4,2,figsize=(10,8), dpi=100)\n",
    "fig.set_figheight(5)\n",
    "fig.set_figwidth(10)\n",
    "\n",
    "gender_counts = train_exp['Gender'].value_counts()\n",
    "em_counts = train_exp['Ever_Married'].value_counts()\n",
    "grad_counts = train_exp['Graduated'].value_counts()\n",
    "var1_counts = train_exp['Var_1'].value_counts()\n",
    "ss_scounts = train_exp['Spending_Score'].value_counts()\n",
    "prof_scounts = train_exp['Profession'].value_counts()\n",
    "age_scounts = train_exp['Age'].value_counts()\n",
    "\n",
    "\n",
    "\n",
    "\n",
    "axs[0,0].bar(gender_counts.index, gender_counts, color=['c','orange'])\n",
    "axs[0,1].bar(em_counts.index, em_counts, color=['c','orange'])\n",
    "axs[2,0].bar(ss_scounts.index, ss_scounts, color=['c','orange'])\n",
    "axs[1,0].bar(grad_counts.index, grad_counts, color=['c','orange'])\n",
    "axs[1,1].bar(var1_counts.index, var1_counts, color=['c','orange'])\n",
    "axs[2,1].barh(prof_scounts.index, prof_scounts, color=['c','orange'])\n",
    "axs[3,0].scatter(age_scounts.index, age_scounts)\n",
    "\n",
    "\n",
    "\n",
    "\n",
    "axs[0,0].title.set_text('Gender')\n",
    "axs[0,1].title.set_text('Ever_Married')\n",
    "axs[2,0].title.set_text('Spending_Score')\n",
    "axs[1,0].title.set_text('Graduated')\n",
    "axs[1,1].title.set_text('Var_1')\n",
    "axs[2,1].title.set_text('Profession')\n",
    "axs[3,0].title.set_text('Age')\n",
    "\n",
    "\n",
    "fig.tight_layout()\n",
    "\n"
   ]
  },
  {
   "cell_type": "code",
   "execution_count": 530,
   "id": "7c5491e0",
   "metadata": {},
   "outputs": [
    {
     "data": {
      "image/png": "[encoded data removed]",
      "text/plain": [
       "<Figure size 432x288 with 2 Axes>"
      ]
     },
     "metadata": {
      "needs_background": "dark"
     },
     "output_type": "display_data"
    }
   ],
   "source": [
    "corr = train.corr()\n",
    "sns.heatmap(corr,cmap=\"Blues\",annot=True)\n",
    "plt.rcParams['figure.figsize'] = [25, 15]\n"
   ]
  },
  {
   "cell_type": "markdown",
   "id": "dbc0953a",
   "metadata": {},
   "source": [
    "## Model the Data"
   ]
  },
  {
   "cell_type": "markdown",
   "id": "db0ba7e2",
   "metadata": {},
   "source": [
    "### Logistic Regression (nd)"
   ]
  },
  {
   "cell_type": "code",
   "execution_count": 463,
   "id": "9849b4bf",
   "metadata": {},
   "outputs": [],
   "source": [
    "from sklearn.linear_model import LogisticRegression\n",
    "from sklearn.metrics import accuracy_score\n",
    "from sklearn.preprocessing import LabelEncoder\n",
    "from sklearn.model_selection import cross_val_score, GridSearchCV, RandomizedSearchCV\n",
    "from scipy.stats import uniform\n",
    "import numpy as np\n",
    "\n",
    "\n",
    "y_train, X_train = train.loc[:, train.columns == 'Segmentation'].copy(), train.drop('Segmentation', axis=1)\n",
    "le = LabelEncoder()\n",
    "le.fit(y_train.values.ravel())\n",
    "y_train_labels = le.transform(y_train.values.ravel())\n"
   ]
  },
  {
   "cell_type": "code",
   "execution_count": 484,
   "id": "de4762e6",
   "metadata": {},
   "outputs": [
    {
     "name": "stdout",
     "output_type": "stream",
     "text": [
      "Fitting 5 folds for each of 10 candidates, totalling 50 fits\n"
     ]
    },
    {
     "data": {
      "text/plain": [
       "{'C': 0.07103605819788694, 'multi_class': 'multinomial', 'penalty': 'l2'}"
      ]
     },
     "execution_count": 484,
     "metadata": {},
     "output_type": "execute_result"
    }
   ],
   "source": [
    "log_clf = LogisticRegression(multi_class='ovr',random_state=0, solver='saga',max_iter=500)\n",
    "\n",
    "distributions = dict(C=uniform(loc=0,scale=1),penalty=['l2','l1'], multi_class=['ovr','multinomial'])\n",
    "\n",
    "rand_clf = RandomizedSearchCV(log_clf, distributions, random_state=0, verbose=1)\n",
    "r_search = rand_clf.fit(X_train, y_train_labels)\n",
    "r_search.best_params_\n",
    "\n"
   ]
  },
  {
   "cell_type": "code",
   "execution_count": 485,
   "id": "dd38e9f6",
   "metadata": {},
   "outputs": [
    {
     "name": "stdout",
     "output_type": "stream",
     "text": [
      "Fitting 5 folds for each of 28 candidates, totalling 140 fits\n"
     ]
    },
    {
     "name": "stderr",
     "output_type": "stream",
     "text": [
      "/Users/daltonsi/analysis/env/lib/python3.8/site-packages/sklearn/linear_model/_sag.py:328: ConvergenceWarning: The max_iter was reached which means the coef_ did not converge\n",
      "  warnings.warn(\"The max_iter was reached which means \"\n",
      "/Users/daltonsi/analysis/env/lib/python3.8/site-packages/sklearn/linear_model/_sag.py:328: ConvergenceWarning: The max_iter was reached which means the coef_ did not converge\n",
      "  warnings.warn(\"The max_iter was reached which means \"\n",
      "/Users/daltonsi/analysis/env/lib/python3.8/site-packages/sklearn/linear_model/_sag.py:328: ConvergenceWarning: The max_iter was reached which means the coef_ did not converge\n",
      "  warnings.warn(\"The max_iter was reached which means \"\n",
      "/Users/daltonsi/analysis/env/lib/python3.8/site-packages/sklearn/linear_model/_sag.py:328: ConvergenceWarning: The max_iter was reached which means the coef_ did not converge\n",
      "  warnings.warn(\"The max_iter was reached which means \"\n",
      "/Users/daltonsi/analysis/env/lib/python3.8/site-packages/sklearn/linear_model/_sag.py:328: ConvergenceWarning: The max_iter was reached which means the coef_ did not converge\n",
      "  warnings.warn(\"The max_iter was reached which means \"\n",
      "/Users/daltonsi/analysis/env/lib/python3.8/site-packages/sklearn/linear_model/_sag.py:328: ConvergenceWarning: The max_iter was reached which means the coef_ did not converge\n",
      "  warnings.warn(\"The max_iter was reached which means \"\n",
      "/Users/daltonsi/analysis/env/lib/python3.8/site-packages/sklearn/linear_model/_sag.py:328: ConvergenceWarning: The max_iter was reached which means the coef_ did not converge\n",
      "  warnings.warn(\"The max_iter was reached which means \"\n",
      "/Users/daltonsi/analysis/env/lib/python3.8/site-packages/sklearn/linear_model/_sag.py:328: ConvergenceWarning: The max_iter was reached which means the coef_ did not converge\n",
      "  warnings.warn(\"The max_iter was reached which means \"\n",
      "/Users/daltonsi/analysis/env/lib/python3.8/site-packages/sklearn/linear_model/_sag.py:328: ConvergenceWarning: The max_iter was reached which means the coef_ did not converge\n",
      "  warnings.warn(\"The max_iter was reached which means \"\n",
      "/Users/daltonsi/analysis/env/lib/python3.8/site-packages/sklearn/linear_model/_sag.py:328: ConvergenceWarning: The max_iter was reached which means the coef_ did not converge\n",
      "  warnings.warn(\"The max_iter was reached which means \"\n"
     ]
    },
    {
     "data": {
      "text/plain": [
       "{'C': 0.09, 'multi_class': 'multinomial', 'penalty': 'l2'}"
      ]
     },
     "execution_count": 485,
     "metadata": {},
     "output_type": "execute_result"
    }
   ],
   "source": [
    "grid_values = {'penalty': ['l1', 'l2'],'C':[0.05,0.01,0.09,1,2,3,5], 'multi_class':['ovr','multinomial']}\n",
    "grid_clf = GridSearchCV(log_clf, grid_values, verbose=1)\n",
    "grid_search = grid_clf.fit(X_train, y_train_labels)\n",
    "grid_search.best_params_"
   ]
  },
  {
   "cell_type": "code",
   "execution_count": 532,
   "id": "998f059a",
   "metadata": {},
   "outputs": [
    {
     "name": "stdout",
     "output_type": "stream",
     "text": [
      "Train metrics...\n",
      "[[ 939  247  367  376]\n",
      " [ 569  396  647  215]\n",
      " [ 250  234 1193  257]\n",
      " [ 452   90   98 1584]]\n",
      "              precision    recall  f1-score   support\n",
      "\n",
      "           0       0.42      0.49      0.45      1929\n",
      "           1       0.41      0.22      0.28      1827\n",
      "           2       0.52      0.62      0.56      1934\n",
      "           3       0.65      0.71      0.68      2224\n",
      "\n",
      "    accuracy                           0.52      7914\n",
      "   macro avg       0.50      0.51      0.50      7914\n",
      "weighted avg       0.51      0.52      0.50      7914\n",
      "\n"
     ]
    }
   ],
   "source": [
    "from sklearn.metrics import classification_report\n",
    "from sklearn.metrics import confusion_matrix\n",
    "from sklearn.metrics import accuracy_score\n",
    "\n",
    "\n",
    "log_clf = LogisticRegression(multi_class='multinomial',random_state=0, solver='saga', max_iter=500, penalty='l2',C=0.075)\n",
    "log_clf.fit(X_train, y_train_labels)\n",
    "y_pred = log_clf.predict(X_train)\n",
    "accuracy_score(y_pred, y_train_labels)\n",
    "\n",
    "print('Train metrics...')\n",
    "print(confusion_matrix(y_train_labels, y_pred))\n",
    "print(classification_report(y_train_labels, y_pred))"
   ]
  },
  {
   "cell_type": "code",
   "execution_count": 487,
   "id": "59d85e9b",
   "metadata": {},
   "outputs": [
    {
     "name": "stdout",
     "output_type": "stream",
     "text": [
      "10-fold cross validation average accuracy: 51.225 %\n"
     ]
    }
   ],
   "source": [
    "scores = cross_val_score(log_clf, X_train, y_train_labels, cv=10)\n",
    "print(f\"10-fold cross validation average accuracy: {(scores.mean()*100).round(3)} %\")\n"
   ]
  },
  {
   "cell_type": "markdown",
   "id": "f86374e6",
   "metadata": {},
   "source": [
    "### Decision Tree (n logn d)"
   ]
  },
  {
   "cell_type": "code",
   "execution_count": 491,
   "id": "2d9cb0dd",
   "metadata": {},
   "outputs": [],
   "source": [
    "from sklearn.tree import DecisionTreeClassifier\n",
    "\n",
    "\n",
    "tree_clf = DecisionTreeClassifier(random_state=0)\n",
    "tree_clf.fit(X_train, y_train_labels)\n",
    "y_pred = tree_clf.predict(X_train)\n"
   ]
  },
  {
   "cell_type": "code",
   "execution_count": 490,
   "id": "d6104909",
   "metadata": {},
   "outputs": [
    {
     "name": "stdout",
     "output_type": "stream",
     "text": [
      "10-fold cross validation average accuracy: 43.126 %\n"
     ]
    }
   ],
   "source": [
    "scores = cross_val_score(tree_clf, X_train, y_train_labels, cv=10)\n",
    "print(f\"10-fold cross validation average accuracy: {(scores.mean()*100).round(3)} %\")"
   ]
  },
  {
   "cell_type": "code",
   "execution_count": 494,
   "id": "95b909e6",
   "metadata": {},
   "outputs": [
    {
     "name": "stdout",
     "output_type": "stream",
     "text": [
      "Fitting 5 folds for each of 10 candidates, totalling 50 fits\n"
     ]
    },
    {
     "data": {
      "text/plain": [
       "{'min_samples_split': 2,\n",
       " 'min_samples_leaf': 1,\n",
       " 'max_depth': 4,\n",
       " 'criterion': 'gini'}"
      ]
     },
     "execution_count": 494,
     "metadata": {},
     "output_type": "execute_result"
    }
   ],
   "source": [
    "param_dict = {\n",
    "    \"criterion\":['gini','entropy'],\n",
    "    \"max_depth\":range(1,10),\n",
    "    \"min_samples_split\":range(2,10),\n",
    "    \"min_samples_leaf\":range(1,10)\n",
    "}\n",
    "\n",
    "\n",
    "rand_tree_clf = RandomizedSearchCV(tree_clf, param_dict, random_state=0, verbose=1)\n",
    "r_tree_search = rand_tree_clf.fit(X_train, y_train_labels)\n",
    "r_tree_search.best_params_"
   ]
  },
  {
   "cell_type": "code",
   "execution_count": 497,
   "id": "960ea601",
   "metadata": {},
   "outputs": [
    {
     "name": "stdout",
     "output_type": "stream",
     "text": [
      "Fitting 5 folds for each of 576 candidates, totalling 2880 fits\n"
     ]
    },
    {
     "data": {
      "text/plain": [
       "{'criterion': 'gini',\n",
       " 'max_depth': 5,\n",
       " 'min_samples_leaf': 1,\n",
       " 'min_samples_split': 6}"
      ]
     },
     "execution_count": 497,
     "metadata": {},
     "output_type": "execute_result"
    }
   ],
   "source": [
    "grid_tree_clf = GridSearchCV(tree_clf, param_dict, verbose=1)\n",
    "grid_search = grid_tree_clf.fit(X_train, y_train_labels)\n",
    "grid_search.best_params_"
   ]
  },
  {
   "cell_type": "code",
   "execution_count": 535,
   "id": "8f9815a7",
   "metadata": {},
   "outputs": [
    {
     "name": "stdout",
     "output_type": "stream",
     "text": [
      "10-fold cross validation average accuracy: 52.135 %\n",
      "Train metrics...\n",
      "[[ 955  373  216  385]\n",
      " [ 488  576  556  207]\n",
      " [ 214  369 1090  261]\n",
      " [ 469  119   38 1598]]\n",
      "              precision    recall  f1-score   support\n",
      "\n",
      "           0       0.45      0.50      0.47      1929\n",
      "           1       0.40      0.32      0.35      1827\n",
      "           2       0.57      0.56      0.57      1934\n",
      "           3       0.65      0.72      0.68      2224\n",
      "\n",
      "    accuracy                           0.53      7914\n",
      "   macro avg       0.52      0.52      0.52      7914\n",
      "weighted avg       0.53      0.53      0.53      7914\n",
      "\n"
     ]
    }
   ],
   "source": [
    "tree_clf = DecisionTreeClassifier(random_state=0, criterion='gini',max_depth=5,min_samples_leaf=1,min_samples_split=6)\n",
    "tree_clf.fit(X_train, y_train_labels)\n",
    "y_pred = tree_clf.predict(X_train)\n",
    "\n",
    "scores = cross_val_score(tree_clf, X_train, y_train_labels, cv=10)\n",
    "print(f\"10-fold cross validation average accuracy: {(scores.mean()*100).round(3)} %\")\n",
    "\n",
    "print('Train metrics...')\n",
    "print(confusion_matrix(y_train_labels, y_pred))\n",
    "print(classification_report(y_train_labels, y_pred))\n"
   ]
  },
  {
   "cell_type": "markdown",
   "id": "b4bc881c",
   "metadata": {},
   "source": [
    "### Random Forest (n logn d k)"
   ]
  },
  {
   "cell_type": "code",
   "execution_count": 500,
   "id": "f9fe2290",
   "metadata": {},
   "outputs": [
    {
     "data": {
      "text/plain": [
       "0.9519838261309073"
      ]
     },
     "execution_count": 500,
     "metadata": {},
     "output_type": "execute_result"
    }
   ],
   "source": [
    "from sklearn.ensemble import RandomForestClassifier\n",
    "\n",
    "\n",
    "rf_clf = RandomForestClassifier(random_state=0)\n",
    "rf_clf.fit(X_train, y_train_labels)\n",
    "y_pred = rf_clf.predict(X_train)\n",
    "\n",
    "accuracy_score(y_pred, y_train_labels)"
   ]
  },
  {
   "cell_type": "code",
   "execution_count": 501,
   "id": "78aa95dc",
   "metadata": {},
   "outputs": [
    {
     "name": "stdout",
     "output_type": "stream",
     "text": [
      "10-fold cross validation average accuracy: 48.445 %\n"
     ]
    }
   ],
   "source": [
    "scores = cross_val_score(rf_clf, X_train, y_train_labels, cv=10)\n",
    "print(f\"10-fold cross validation average accuracy: {(scores.mean()*100).round(3)} %\")"
   ]
  },
  {
   "cell_type": "code",
   "execution_count": 504,
   "id": "6d3b7874",
   "metadata": {},
   "outputs": [
    {
     "name": "stdout",
     "output_type": "stream",
     "text": [
      "Fitting 5 folds for each of 10 candidates, totalling 50 fits\n"
     ]
    },
    {
     "data": {
      "text/plain": [
       "{'min_samples_split': 9,\n",
       " 'min_samples_leaf': 1,\n",
       " 'max_depth': 8,\n",
       " 'criterion': 'gini'}"
      ]
     },
     "execution_count": 504,
     "metadata": {},
     "output_type": "execute_result"
    }
   ],
   "source": [
    "{'bootstrap': [True, False],\n",
    " 'max_depth': [10, 20, 30, 40, 50, 60, 70, 80, 90, 100, None],\n",
    " 'max_features': ['auto', 'sqrt'],\n",
    " 'min_samples_leaf': [1, 2, 4],\n",
    " 'min_samples_split': [2, 5, 10],\n",
    " 'n_estimators': [200, 400, 600, 800, 1000, 1200, 1400, 1600, 1800, 2000]}\n",
    "\n",
    "\n",
    "rand_rf_clf = RandomizedSearchCV(rf_clf, param_dict, random_state=0, verbose=1)\n",
    "r_rf_search = rand_rf_clf.fit(X_train, y_train_labels)\n",
    "r_rf_search.best_params_"
   ]
  },
  {
   "cell_type": "code",
   "execution_count": 503,
   "id": "2af61c65",
   "metadata": {},
   "outputs": [
    {
     "name": "stdout",
     "output_type": "stream",
     "text": [
      "Fitting 5 folds for each of 576 candidates, totalling 2880 fits\n"
     ]
    },
    {
     "data": {
      "text/plain": [
       "{'criterion': 'gini',\n",
       " 'max_depth': 9,\n",
       " 'min_samples_leaf': 3,\n",
       " 'min_samples_split': 9}"
      ]
     },
     "execution_count": 503,
     "metadata": {},
     "output_type": "execute_result"
    }
   ],
   "source": [
    "grid_rf_clf = GridSearchCV(rf_clf, param_dict, verbose=1)\n",
    "rf_search = grid_rf_clf.fit(X_train, y_train_labels)\n",
    "rf_search.best_params_"
   ]
  },
  {
   "cell_type": "code",
   "execution_count": 536,
   "id": "2950b948",
   "metadata": {},
   "outputs": [
    {
     "name": "stdout",
     "output_type": "stream",
     "text": [
      "10-fold cross validation average accuracy: 53.702 %\n",
      "Train metrics...\n",
      "[[1101  279  216  333]\n",
      " [ 398  744  469  216]\n",
      " [ 214  273 1179  268]\n",
      " [ 361  105   33 1725]]\n",
      "              precision    recall  f1-score   support\n",
      "\n",
      "           0       0.53      0.57      0.55      1929\n",
      "           1       0.53      0.41      0.46      1827\n",
      "           2       0.62      0.61      0.62      1934\n",
      "           3       0.68      0.78      0.72      2224\n",
      "\n",
      "    accuracy                           0.60      7914\n",
      "   macro avg       0.59      0.59      0.59      7914\n",
      "weighted avg       0.59      0.60      0.59      7914\n",
      "\n"
     ]
    }
   ],
   "source": [
    "rf_clf = RandomForestClassifier(random_state=0, criterion='gini',max_depth=9,min_samples_leaf=3,min_samples_split=9)\n",
    "rf_clf.fit(X_train, y_train_labels)\n",
    "y_pred = rf_clf.predict(X_train)\n",
    "\n",
    "scores = cross_val_score(rf_clf, X_train, y_train_labels, cv=10)\n",
    "print(f\"10-fold cross validation average accuracy: {(scores.mean()*100).round(3)} %\")\n",
    "\n",
    "print('Train metrics...')\n",
    "print(confusion_matrix(y_train_labels, y_pred))\n",
    "print(classification_report(y_train_labels, y_pred))\n",
    "\n"
   ]
  },
  {
   "cell_type": "markdown",
   "id": "bd8f0323",
   "metadata": {},
   "source": [
    "#### ASIDE: FEATURE IMPORTANCES"
   ]
  },
  {
   "cell_type": "code",
   "execution_count": 539,
   "id": "427e1939",
   "metadata": {},
   "outputs": [
    {
     "data": {
      "text/plain": [
       "Age                   0.236803\n",
       "prof_Healthcare       0.129715\n",
       "ss_Low                0.104832\n",
       "prof_Artist           0.099247\n",
       "Graduated             0.073218\n",
       "Ever_Married          0.056739\n",
       "Family_Size           0.056225\n",
       "ss_Average            0.044565\n",
       "Work_Experience       0.038926\n",
       "Cat_4                 0.017704\n",
       "Cat_6                 0.016399\n",
       "prof_Marketing        0.016292\n",
       "prof_Entertainment    0.016239\n",
       "Female                0.014529\n",
       "ss_High               0.013321\n",
       "Male                  0.013015\n",
       "prof_Engineer         0.010942\n",
       "prof_Executive        0.007043\n",
       "Cat_3                 0.007040\n",
       "prof_Doctor           0.006601\n",
       "Cat_2                 0.005382\n",
       "prof_Lawyer           0.004653\n",
       "prof_Homemaker        0.004443\n",
       "Cat_7                 0.002903\n",
       "Cat_1                 0.001988\n",
       "Cat_5                 0.001237\n",
       "dtype: float64"
      ]
     },
     "execution_count": 539,
     "metadata": {},
     "output_type": "execute_result"
    }
   ],
   "source": [
    "forest_importances = pd.Series(rf_clf.feature_importances_, index=X_train.columns).sort_values(ascending=False)\n",
    "forest_importances"
   ]
  },
  {
   "cell_type": "markdown",
   "id": "647cfaf6",
   "metadata": {},
   "source": [
    "### SVM (n^2)"
   ]
  },
  {
   "cell_type": "code",
   "execution_count": 540,
   "id": "3cff763d",
   "metadata": {},
   "outputs": [
    {
     "data": {
      "text/plain": [
       "0.5809957038160223"
      ]
     },
     "execution_count": 540,
     "metadata": {},
     "output_type": "execute_result"
    }
   ],
   "source": [
    "from sklearn.svm import SVC\n",
    "\n",
    "svm_clf = SVC()\n",
    "svm_clf.fit(X_train, y_train_labels)\n",
    "y_pred = svm_clf.predict(X_train)\n",
    "\n",
    "accuracy_score(y_pred, y_train_labels)"
   ]
  },
  {
   "cell_type": "code",
   "execution_count": 541,
   "id": "d3f16a2a",
   "metadata": {},
   "outputs": [
    {
     "name": "stdout",
     "output_type": "stream",
     "text": [
      "10-fold cross validation average accuracy: 53.702 %\n"
     ]
    }
   ],
   "source": [
    "scores = cross_val_score(rf_clf, X_train, y_train_labels, cv=10)\n",
    "print(f\"10-fold cross validation average accuracy: {(scores.mean()*100).round(3)} %\")"
   ]
  },
  {
   "cell_type": "code",
   "execution_count": null,
   "id": "2b3ca4b0",
   "metadata": {},
   "outputs": [
    {
     "name": "stdout",
     "output_type": "stream",
     "text": [
      "Fitting 5 folds for each of 10 candidates, totalling 50 fits\n"
     ]
    }
   ],
   "source": [
    "param_grid = {'C': [0.1,1, 10, 100], 'gamma': [1,0.1,0.01,0.001],'kernel': ['rbf', 'poly', 'sigmoid']}\n",
    "\n",
    "rand_svc_clf = RandomizedSearchCV(svm_clf, param_grid, random_state=0, verbose=2)\n",
    "r_svc_search = rand_svc_clf.fit(X_train, y_train_labels)\n",
    "r_svc_search.best_params_\n",
    "\n"
   ]
  },
  {
   "cell_type": "code",
   "execution_count": null,
   "id": "c2c36066",
   "metadata": {},
   "outputs": [],
   "source": []
  },
  {
   "cell_type": "markdown",
   "id": "4a2f203d",
   "metadata": {},
   "source": [
    "### Ensemble Classifier"
   ]
  },
  {
   "cell_type": "code",
   "execution_count": 537,
   "id": "b29cd193",
   "metadata": {},
   "outputs": [
    {
     "name": "stdout",
     "output_type": "stream",
     "text": [
      "Train metrics...\n",
      "[[1073  286  222  348]\n",
      " [ 489  613  515  210]\n",
      " [ 238  292 1143  261]\n",
      " [ 428  105   34 1657]]\n",
      "              precision    recall  f1-score   support\n",
      "\n",
      "           0       0.48      0.56      0.52      1929\n",
      "           1       0.47      0.34      0.39      1827\n",
      "           2       0.60      0.59      0.59      1934\n",
      "           3       0.67      0.75      0.71      2224\n",
      "\n",
      "    accuracy                           0.57      7914\n",
      "   macro avg       0.56      0.56      0.55      7914\n",
      "weighted avg       0.56      0.57      0.56      7914\n",
      "\n"
     ]
    }
   ],
   "source": [
    "from sklearn.ensemble import VotingClassifier\n",
    "\n",
    "eclf1 = VotingClassifier(estimators=[('log', log_clf), ('tree', tree_clf), ('rf', rf_clf)], voting='hard')\n",
    "eclf1 = eclf1.fit(X_train, y_train_labels)\n",
    "y_pred = eclf1.predict(X_train)\n",
    "\n",
    "\n",
    "accuracy_score(y_pred, y_train_labels)\n",
    "\n",
    "print('Train metrics...')\n",
    "print(confusion_matrix(y_train_labels, y_pred))\n",
    "print(classification_report(y_train_labels, y_pred))\n",
    "\n"
   ]
  },
  {
   "cell_type": "code",
   "execution_count": 538,
   "id": "58840c53",
   "metadata": {},
   "outputs": [
    {
     "name": "stdout",
     "output_type": "stream",
     "text": [
      "Train metrics...\n",
      "[[1073  286  222  348]\n",
      " [ 489  613  515  210]\n",
      " [ 238  292 1143  261]\n",
      " [ 428  105   34 1657]]\n",
      "              precision    recall  f1-score   support\n",
      "\n",
      "           0       0.48      0.56      0.52      1929\n",
      "           1       0.47      0.34      0.39      1827\n",
      "           2       0.60      0.59      0.59      1934\n",
      "           3       0.67      0.75      0.71      2224\n",
      "\n",
      "    accuracy                           0.57      7914\n",
      "   macro avg       0.56      0.56      0.55      7914\n",
      "weighted avg       0.56      0.57      0.56      7914\n",
      "\n"
     ]
    }
   ],
   "source": [
    "eclf2 = VotingClassifier(estimators=[('log', log_clf), ('tree', tree_clf), ('rf', rf_clf)], voting='soft')\n",
    "eclf2 = eclf1.fit(X_train, y_train_labels)\n",
    "y_pred = eclf2.predict(X_train)\n",
    "\n",
    "\n",
    "accuracy_score(y_pred, y_train_labels)\n",
    "\n",
    "print('Train metrics...')\n",
    "print(confusion_matrix(y_train_labels, y_pred))\n",
    "print(classification_report(y_train_labels, y_pred))\n",
    "\n"
   ]
  },
  {
   "cell_type": "code",
   "execution_count": null,
   "id": "6332608e",
   "metadata": {},
   "outputs": [],
   "source": []
  }
 ],
 "metadata": {
  "kernelspec": {
   "display_name": "python3_analysis",
   "language": "python",
   "name": "python3_analysis"
  },
  "language_info": {
   "codemirror_mode": {
    "name": "ipython",
    "version": 3
   },
   "file_extension": ".py",
   "mimetype": "text/x-python",
   "name": "python",
   "nbconvert_exporter": "python",
   "pygments_lexer": "ipython3",
   "version": "3.8.2"
  }
 },
 "nbformat": 4,
 "nbformat_minor": 5
}
